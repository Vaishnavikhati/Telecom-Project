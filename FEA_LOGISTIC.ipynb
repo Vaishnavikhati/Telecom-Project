{
 "cells": [
  {
   "cell_type": "code",
   "execution_count": 16,
   "id": "75aac286-87c9-4766-8ad7-6f8f82bc8fbe",
   "metadata": {},
   "outputs": [],
   "source": [
    "import pandas as pd\n",
    "from sklearn.model_selection import train_test_split\n",
    "from sklearn.preprocessing import LabelEncoder, StandardScaler\n",
    "from sklearn.feature_selection import SelectKBest, mutual_info_classif, RFE\n",
    "from sklearn.ensemble import RandomForestClassifier\n",
    "from sklearn.metrics import accuracy_score\n",
    "import matplotlib.pyplot as plt\n",
    "import seaborn as sns"
   ]
  },
  {
   "cell_type": "code",
   "execution_count": 17,
   "id": "d628a41e-490d-43dc-a08e-2e7ac0b3b751",
   "metadata": {},
   "outputs": [],
   "source": [
    "\n",
    "df = pd.read_csv('Telco_Churn_Customer.csv')"
   ]
  },
  {
   "cell_type": "code",
   "execution_count": 18,
   "id": "4ed9e848-8f69-469f-a883-bbc8206ba7cb",
   "metadata": {},
   "outputs": [],
   "source": [
    "\n",
    "label_encoders = {}\n",
    "categorical_columns = df.select_dtypes(include=['object']).columns\n",
    "\n",
    "\n",
    "for col in categorical_columns:\n",
    "    le = LabelEncoder()\n",
    "    df[col] = le.fit_transform(df[col])\n",
    "    label_encoders[col] = le"
   ]
  },
  {
   "cell_type": "code",
   "execution_count": 20,
   "id": "12a9068c-1800-4b14-8172-c44bd4f6f820",
   "metadata": {},
   "outputs": [
    {
     "data": {
      "text/html": [
       "<div>\n",
       "<style scoped>\n",
       "    .dataframe tbody tr th:only-of-type {\n",
       "        vertical-align: middle;\n",
       "    }\n",
       "\n",
       "    .dataframe tbody tr th {\n",
       "        vertical-align: top;\n",
       "    }\n",
       "\n",
       "    .dataframe thead th {\n",
       "        text-align: right;\n",
       "    }\n",
       "</style>\n",
       "<table border=\"1\" class=\"dataframe\">\n",
       "  <thead>\n",
       "    <tr style=\"text-align: right;\">\n",
       "      <th></th>\n",
       "      <th>CUSTOMER_ID</th>\n",
       "      <th>SERVICE_ID</th>\n",
       "      <th>GENDER</th>\n",
       "      <th>AGE</th>\n",
       "      <th>SENIORCITIZEN</th>\n",
       "      <th>PARTNER</th>\n",
       "      <th>DEPENDENTS</th>\n",
       "      <th>CITY</th>\n",
       "      <th>STATE</th>\n",
       "      <th>COUNTRY</th>\n",
       "      <th>...</th>\n",
       "      <th>INTERNET_SERVICE</th>\n",
       "      <th>DATA_USAGE</th>\n",
       "      <th>TEXT_MSGS</th>\n",
       "      <th>VOICE_MINUTES</th>\n",
       "      <th>MONTHLY_BILL</th>\n",
       "      <th>CHURN_REASON</th>\n",
       "      <th>CHURNED</th>\n",
       "      <th>Contract</th>\n",
       "      <th>PaymentMethod</th>\n",
       "      <th>PaperlessBilling</th>\n",
       "    </tr>\n",
       "  </thead>\n",
       "  <tbody>\n",
       "    <tr>\n",
       "      <th>0</th>\n",
       "      <td>98910201</td>\n",
       "      <td>4334</td>\n",
       "      <td>1</td>\n",
       "      <td>29</td>\n",
       "      <td>0</td>\n",
       "      <td>1</td>\n",
       "      <td>0</td>\n",
       "      <td>9</td>\n",
       "      <td>0</td>\n",
       "      <td>0</td>\n",
       "      <td>...</td>\n",
       "      <td>3</td>\n",
       "      <td>7.84</td>\n",
       "      <td>937</td>\n",
       "      <td>693</td>\n",
       "      <td>602.52</td>\n",
       "      <td>0</td>\n",
       "      <td>1</td>\n",
       "      <td>2</td>\n",
       "      <td>0</td>\n",
       "      <td>0</td>\n",
       "    </tr>\n",
       "    <tr>\n",
       "      <th>1</th>\n",
       "      <td>24802716</td>\n",
       "      <td>15454</td>\n",
       "      <td>1</td>\n",
       "      <td>65</td>\n",
       "      <td>1</td>\n",
       "      <td>1</td>\n",
       "      <td>1</td>\n",
       "      <td>4</td>\n",
       "      <td>0</td>\n",
       "      <td>0</td>\n",
       "      <td>...</td>\n",
       "      <td>2</td>\n",
       "      <td>0.00</td>\n",
       "      <td>558</td>\n",
       "      <td>607</td>\n",
       "      <td>436.90</td>\n",
       "      <td>9</td>\n",
       "      <td>0</td>\n",
       "      <td>0</td>\n",
       "      <td>0</td>\n",
       "      <td>0</td>\n",
       "    </tr>\n",
       "    <tr>\n",
       "      <th>2</th>\n",
       "      <td>68785447</td>\n",
       "      <td>19188</td>\n",
       "      <td>0</td>\n",
       "      <td>39</td>\n",
       "      <td>0</td>\n",
       "      <td>0</td>\n",
       "      <td>1</td>\n",
       "      <td>1</td>\n",
       "      <td>0</td>\n",
       "      <td>0</td>\n",
       "      <td>...</td>\n",
       "      <td>3</td>\n",
       "      <td>9.08</td>\n",
       "      <td>0</td>\n",
       "      <td>0</td>\n",
       "      <td>317.04</td>\n",
       "      <td>2</td>\n",
       "      <td>1</td>\n",
       "      <td>2</td>\n",
       "      <td>1</td>\n",
       "      <td>1</td>\n",
       "    </tr>\n",
       "    <tr>\n",
       "      <th>3</th>\n",
       "      <td>2073488</td>\n",
       "      <td>10578</td>\n",
       "      <td>1</td>\n",
       "      <td>66</td>\n",
       "      <td>1</td>\n",
       "      <td>0</td>\n",
       "      <td>0</td>\n",
       "      <td>2</td>\n",
       "      <td>0</td>\n",
       "      <td>0</td>\n",
       "      <td>...</td>\n",
       "      <td>3</td>\n",
       "      <td>1.84</td>\n",
       "      <td>293</td>\n",
       "      <td>307</td>\n",
       "      <td>344.32</td>\n",
       "      <td>9</td>\n",
       "      <td>0</td>\n",
       "      <td>1</td>\n",
       "      <td>1</td>\n",
       "      <td>1</td>\n",
       "    </tr>\n",
       "    <tr>\n",
       "      <th>4</th>\n",
       "      <td>48861275</td>\n",
       "      <td>14135</td>\n",
       "      <td>1</td>\n",
       "      <td>69</td>\n",
       "      <td>1</td>\n",
       "      <td>1</td>\n",
       "      <td>1</td>\n",
       "      <td>9</td>\n",
       "      <td>0</td>\n",
       "      <td>0</td>\n",
       "      <td>...</td>\n",
       "      <td>1</td>\n",
       "      <td>2.96</td>\n",
       "      <td>485</td>\n",
       "      <td>693</td>\n",
       "      <td>493.88</td>\n",
       "      <td>9</td>\n",
       "      <td>0</td>\n",
       "      <td>0</td>\n",
       "      <td>2</td>\n",
       "      <td>1</td>\n",
       "    </tr>\n",
       "  </tbody>\n",
       "</table>\n",
       "<p>5 rows × 29 columns</p>\n",
       "</div>"
      ],
      "text/plain": [
       "   CUSTOMER_ID  SERVICE_ID  GENDER  AGE  SENIORCITIZEN  PARTNER  DEPENDENTS  \\\n",
       "0     98910201        4334       1   29              0        1           0   \n",
       "1     24802716       15454       1   65              1        1           1   \n",
       "2     68785447       19188       0   39              0        0           1   \n",
       "3      2073488       10578       1   66              1        0           0   \n",
       "4     48861275       14135       1   69              1        1           1   \n",
       "\n",
       "   CITY  STATE  COUNTRY  ...  INTERNET_SERVICE  DATA_USAGE  TEXT_MSGS  \\\n",
       "0     9      0        0  ...                 3        7.84        937   \n",
       "1     4      0        0  ...                 2        0.00        558   \n",
       "2     1      0        0  ...                 3        9.08          0   \n",
       "3     2      0        0  ...                 3        1.84        293   \n",
       "4     9      0        0  ...                 1        2.96        485   \n",
       "\n",
       "   VOICE_MINUTES  MONTHLY_BILL  CHURN_REASON  CHURNED  Contract  \\\n",
       "0            693        602.52             0        1         2   \n",
       "1            607        436.90             9        0         0   \n",
       "2              0        317.04             2        1         2   \n",
       "3            307        344.32             9        0         1   \n",
       "4            693        493.88             9        0         0   \n",
       "\n",
       "   PaymentMethod  PaperlessBilling  \n",
       "0              0                 0  \n",
       "1              0                 0  \n",
       "2              1                 1  \n",
       "3              1                 1  \n",
       "4              2                 1  \n",
       "\n",
       "[5 rows x 29 columns]"
      ]
     },
     "execution_count": 20,
     "metadata": {},
     "output_type": "execute_result"
    }
   ],
   "source": [
    "\n",
    "df_dummies = pd.get_dummies(df)\n",
    "df_dummies.head()"
   ]
  },
  {
   "cell_type": "code",
   "execution_count": 21,
   "id": "5ea2fda4-2636-426b-94be-2b218e7ee0b6",
   "metadata": {},
   "outputs": [
    {
     "name": "stdout",
     "output_type": "stream",
     "text": [
      "Columns in the dataset:\n",
      "Index(['CUSTOMER_ID', 'SERVICE_ID', 'GENDER', 'AGE', 'SENIORCITIZEN',\n",
      "       'PARTNER', 'DEPENDENTS', 'CITY', 'STATE', 'COUNTRY', 'ZIP_CODE',\n",
      "       'CUSTOMER_SINCE', 'CUSTOMER_SEGMENT', 'CUSTOMER_TYPE',\n",
      "       'CUSTOMER_DISCONNCT_DATE', 'CUSTOMER_STATUS', 'TENURE', 'PHONE_SERVICE',\n",
      "       'MULTIPLE_LINES', 'INTERNET_SERVICE', 'DATA_USAGE', 'TEXT_MSGS',\n",
      "       'VOICE_MINUTES', 'MONTHLY_BILL', 'CHURN_REASON', 'CHURNED', 'Contract',\n",
      "       'PaymentMethod', 'PaperlessBilling'],\n",
      "      dtype='object')\n"
     ]
    }
   ],
   "source": [
    "print(\"Columns in the dataset:\")\n",
    "print(df.columns)"
   ]
  },
  {
   "cell_type": "code",
   "execution_count": 22,
   "id": "61ad9580-6787-43e9-8067-77f9b824d805",
   "metadata": {},
   "outputs": [],
   "source": [
    "\n",
    "X = df_dummies.drop(['CUSTOMER_ID','SERVICE_ID','ZIP_CODE','CUSTOMER_DISCONNCT_DATE','CUSTOMER_SINCE', 'CHURNED','CHURN_REASON'], axis=1)\n",
    "y = df_dummies['CHURNED']"
   ]
  },
  {
   "cell_type": "code",
   "execution_count": 23,
   "id": "b7e553d6-7f0f-42c5-93a0-151ae5537189",
   "metadata": {},
   "outputs": [
    {
     "name": "stdout",
     "output_type": "stream",
     "text": [
      "Features (X):\n",
      "['GENDER', 'AGE', 'SENIORCITIZEN', 'PARTNER', 'DEPENDENTS', 'CITY', 'STATE', 'COUNTRY', 'CUSTOMER_SEGMENT', 'CUSTOMER_TYPE', 'CUSTOMER_STATUS', 'TENURE', 'PHONE_SERVICE', 'MULTIPLE_LINES', 'INTERNET_SERVICE', 'DATA_USAGE', 'TEXT_MSGS', 'VOICE_MINUTES', 'MONTHLY_BILL', 'Contract', 'PaymentMethod', 'PaperlessBilling']\n",
      "\n",
      "Target (y):\n",
      "CHURNED\n"
     ]
    }
   ],
   "source": [
    "\n",
    "print(\"Features (X):\")\n",
    "print(X.columns.tolist())\n",
    "print(\"\\nTarget (y):\")\n",
    "print(y.name)"
   ]
  },
  {
   "cell_type": "code",
   "execution_count": 24,
   "id": "5c0ae4e5-2ac3-41a0-9128-a99bb1e45751",
   "metadata": {},
   "outputs": [],
   "source": [
    "\n",
    "X_train, X_test, y_train, y_test = train_test_split(X, y, test_size=0.3, random_state=42)\n",
    "\n",
    "\n",
    "scaler = StandardScaler()\n",
    "X_train_scaled = scaler.fit_transform(X_train)\n",
    "X_test_scaled = scaler.transform(X_test)\n",
    "\n",
    "\n",
    "X_train_scaled = pd.DataFrame(X_train_scaled, columns=X.columns, index=X_train.index)\n",
    "X_test_scaled = pd.DataFrame(X_test_scaled, columns=X.columns, index=X_test.index)"
   ]
  },
  {
   "cell_type": "code",
   "execution_count": 25,
   "id": "2bd91663-4003-446b-a1ff-b6a37cbb0e6c",
   "metadata": {},
   "outputs": [
    {
     "name": "stdout",
     "output_type": "stream",
     "text": [
      "                     Score\n",
      "CUSTOMER_STATUS   0.570753\n",
      "TENURE            0.373305\n",
      "STATE             0.008296\n",
      "DATA_USAGE        0.006091\n",
      "SENIORCITIZEN     0.004480\n",
      "MULTIPLE_LINES    0.003648\n",
      "PHONE_SERVICE     0.003420\n",
      "PaperlessBilling  0.002396\n",
      "PaymentMethod     0.001998\n",
      "Contract          0.001805\n",
      "MONTHLY_BILL      0.001279\n",
      "PARTNER           0.001151\n",
      "VOICE_MINUTES     0.000609\n",
      "GENDER            0.000514\n",
      "CUSTOMER_TYPE     0.000106\n",
      "CUSTOMER_SEGMENT  0.000000\n",
      "COUNTRY           0.000000\n",
      "AGE               0.000000\n",
      "CITY              0.000000\n",
      "DEPENDENTS        0.000000\n",
      "INTERNET_SERVICE  0.000000\n",
      "TEXT_MSGS         0.000000\n"
     ]
    }
   ],
   "source": [
    "selector = SelectKBest(score_func=mutual_info_classif, k='all')\n",
    "selector.fit(X_train_scaled, y_train)\n",
    "scores = pd.DataFrame(selector.scores_, index=X.columns, columns=['Score'])\n",
    "print(scores.sort_values(by='Score', ascending=False))"
   ]
  },
  {
   "cell_type": "code",
   "execution_count": 26,
   "id": "5445721d-bf78-43f8-97de-cd3a0ed43f28",
   "metadata": {},
   "outputs": [
    {
     "name": "stdout",
     "output_type": "stream",
     "text": [
      "Num Features: 5\n",
      "Selected Features: Index(['AGE', 'CUSTOMER_STATUS', 'TENURE', 'DATA_USAGE', 'MONTHLY_BILL'], dtype='object')\n"
     ]
    }
   ],
   "source": [
    "# Phase 2: Recursive Feature Elimination (RFE)\n",
    "model = RandomForestClassifier()\n",
    "rfe = RFE(model, n_features_to_select=5)\n",
    "fit = rfe.fit(X_train_scaled, y_train)\n",
    "print(\"Num Features: %s\" % (fit.n_features_))\n",
    "print(\"Selected Features: %s\" % (X.columns[fit.support_]))"
   ]
  },
  {
   "cell_type": "markdown",
   "id": "4bb01b45-5ec4-4598-89a8-26386692b2a3",
   "metadata": {},
   "source": [
    "\n"
   ]
  },
  {
   "cell_type": "markdown",
   "id": "cf316f81-58c8-460d-ab1e-7e2d015abffd",
   "metadata": {},
   "source": [
    "## LOGISTIC"
   ]
  },
  {
   "cell_type": "code",
   "execution_count": 12,
   "id": "dbe979ee-12b4-4884-ba07-65fd10ed6d42",
   "metadata": {},
   "outputs": [],
   "source": [
    "import pandas as pd\n",
    "import matplotlib.pyplot as plt\n",
    "import seaborn as sns\n",
    "from sklearn.model_selection import train_test_split\n",
    "from sklearn.linear_model import LogisticRegression\n",
    "from sklearn.metrics import accuracy_score, precision_score, recall_score, f1_score, confusion_matrix, classification_report, roc_curve, roc_auc_score\n"
   ]
  },
  {
   "cell_type": "code",
   "execution_count": 13,
   "id": "354e4aa5-444d-4d79-b411-8f1269947ddc",
   "metadata": {},
   "outputs": [
    {
     "name": "stdout",
     "output_type": "stream",
     "text": [
      "Accuracy: 0.8797142857142857\n",
      "Precision: 0.73474001507159\n",
      "Recall: 0.8232479594708697\n",
      "F1 Score: 0.7764799575258826\n",
      "Classification Report:\n",
      "               precision    recall  f1-score   support\n",
      "\n",
      "           0       0.94      0.90      0.92     10447\n",
      "           1       0.73      0.82      0.78      3553\n",
      "\n",
      "    accuracy                           0.88     14000\n",
      "   macro avg       0.84      0.86      0.85     14000\n",
      "weighted avg       0.89      0.88      0.88     14000\n",
      "\n"
     ]
    },
    {
     "data": {
      "image/png": "[encoded data removed]",
      "text/plain": [
       "<Figure size 1200x600 with 1 Axes>"
      ]
     },
     "metadata": {},
     "output_type": "display_data"
    }
   ],
   "source": [
    "\n",
    "X1 = df_dummies[['AGE', 'MONTHLY_BILL', 'TENURE']]\n",
    "Y1 = df_dummies['CHURNED']\n",
    "\n",
    "\n",
    "X1_train, X1_test, Y1_train, Y1_test = train_test_split(X1, Y1, test_size=0.7, random_state=42)\n",
    "\n",
    "\n",
    "clf = LogisticRegression(max_iter=1000)  \n",
    "clf.fit(X1_train, Y1_train)\n",
    "\n",
    "\n",
    "Y1_pred = clf.predict(X1_test)\n",
    "Y1_prob = clf.predict_proba(X1_test)[:, 1]  \n",
    "\n",
    "\n",
    "print(\"Accuracy:\", accuracy_score(Y1_test, Y1_pred))\n",
    "print(\"Precision:\", precision_score(Y1_test, Y1_pred))\n",
    "print(\"Recall:\", recall_score(Y1_test, Y1_pred))\n",
    "print(\"F1 Score:\", f1_score(Y1_test, Y1_pred))\n",
    "\n",
    "\n",
    "print(\"Classification Report:\\n\", classification_report(Y1_test, Y1_pred))\n",
    "\n",
    "\n",
    "plt.figure(figsize=(12, 6))\n",
    "\n",
    "\n",
    "fpr, tpr, _ = roc_curve(Y1_test, Y1_prob)\n",
    "roc_auc = roc_auc_score(Y1_test, Y1_prob)\n",
    "\n",
    "\n",
    "plt.subplot(1, 2, 1)\n",
    "plt.plot(fpr, tpr, color='darkorange', lw=2, label='ROC curve (area = %0.2f)' % roc_auc)\n",
    "plt.plot([0, 1], [0, 1], color='navy', lw=2, linestyle='--')\n",
    "plt.xlim([0.0, 1.0])\n",
    "plt.ylim([0.0, 1.05])\n",
    "plt.xlabel('False Positive Rate')\n",
    "plt.ylabel('True Positive Rate')\n",
    "plt.title('Receiver Operating Characteristic (ROC)')\n",
    "plt.legend(loc='lower right')\n",
    "\n",
    "plt.show()\n"
   ]
  },
  {
   "cell_type": "code",
   "execution_count": 14,
   "id": "053c621f-34a6-4cd7-bdf2-8aa7f0f2ef4e",
   "metadata": {},
   "outputs": [
    {
     "data": {
      "image/png": "[encoded data removed]",
      "text/plain": [
       "<Figure size 640x480 with 1 Axes>"
      ]
     },
     "metadata": {},
     "output_type": "display_data"
    }
   ],
   "source": [
    "from sklearn.metrics import confusion_matrix\n",
    "import seaborn as sns\n",
    "import matplotlib.pyplot as plt\n",
    "\n",
    "\n",
    "plt.subplot(1, 2, 2)\n",
    "sns.heatmap(conf_matrix, annot=True, fmt='d', cmap='Blues', cbar=False, \n",
    "            xticklabels=['Not Churned', 'Churned'], yticklabels=['Not Churned', 'Churned'])\n",
    "plt.xlabel('Predicted Label')\n",
    "plt.ylabel('True Label')\n",
    "plt.title('Confusion Matrix')\n",
    "\n",
    "plt.tight_layout()\n",
    "plt.show()"
   ]
  },
  {
   "cell_type": "code",
   "execution_count": null,
   "id": "964f959e-4cf0-40cb-b9c9-7c62480a31a3",
   "metadata": {},
   "outputs": [],
   "source": []
  }
 ],
 "metadata": {
  "kernelspec": {
   "display_name": "Python 3 (ipykernel)",
   "language": "python",
   "name": "python3"
  },
  "language_info": {
   "codemirror_mode": {
    "name": "ipython",
    "version": 3
   },
   "file_extension": ".py",
   "mimetype": "text/x-python",
   "name": "python",
   "nbconvert_exporter": "python",
   "pygments_lexer": "ipython3",
   "version": "3.12.4"
  }
 },
 "nbformat": 4,
 "nbformat_minor": 5
}
